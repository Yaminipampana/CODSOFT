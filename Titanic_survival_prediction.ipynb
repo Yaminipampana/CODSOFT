{
  "nbformat": 4,
  "nbformat_minor": 0,
  "metadata": {
    "colab": {
      "provenance": [],
      "authorship_tag": "ABX9TyNUUiTjFkVzm0ejT5hAUceP",
      "include_colab_link": true
    },
    "kernelspec": {
      "name": "python3",
      "display_name": "Python 3"
    },
    "language_info": {
      "name": "python"
    }
  },
  "cells": [
    {
      "cell_type": "markdown",
      "metadata": {
        "id": "view-in-github",
        "colab_type": "text"
      },
      "source": [
        "<a href=\"https://colab.research.google.com/github/Yaminipampana/CODSOFT/blob/main/Titanic_survival_prediction.ipynb\" target=\"_parent\"><img src=\"https://colab.research.google.com/assets/colab-badge.svg\" alt=\"Open In Colab\"/></a>"
      ]
    },
    {
      "cell_type": "code",
      "execution_count": null,
      "metadata": {
        "id": "m5svashrVMoT"
      },
      "outputs": [],
      "source": [
        "import pandas as pd\n",
        "import matplotlib.pyplot as plt\n",
        "import numpy as np\n",
        "import seaborn as sns"
      ]
    },
    {
      "cell_type": "code",
      "source": [
        "from google.colab import files\n",
        "uploaded = files.upload()"
      ],
      "metadata": {
        "id": "t6rJfpoROCW3"
      },
      "execution_count": null,
      "outputs": []
    },
    {
      "cell_type": "code",
      "source": [
        "import io\n",
        "titanic_df = pd.read_csv((io.BytesIO(uploaded['Titanic-Dataset (1).csv'])))\n",
        "titanic_df.head(10)"
      ],
      "metadata": {
        "id": "QKUZEG6FQv7S"
      },
      "execution_count": null,
      "outputs": []
    },
    {
      "cell_type": "code",
      "source": [
        "titanic_df.describe()"
      ],
      "metadata": {
        "id": "tq3tDcaSRid_"
      },
      "execution_count": null,
      "outputs": []
    },
    {
      "cell_type": "code",
      "source": [
        "titanic_df.shape"
      ],
      "metadata": {
        "id": "SEbLQMwGRpsM"
      },
      "execution_count": null,
      "outputs": []
    },
    {
      "cell_type": "code",
      "source": [
        "titanic_df.info()"
      ],
      "metadata": {
        "id": "tTdPvy2XRvyq"
      },
      "execution_count": null,
      "outputs": []
    },
    {
      "cell_type": "code",
      "source": [
        "titanic_df['Survived'].value_counts()"
      ],
      "metadata": {
        "id": "V9IZCMAhbY4R"
      },
      "execution_count": null,
      "outputs": []
    },
    {
      "cell_type": "code",
      "source": [
        "sns.countplot(x = titanic_df['Survived'], hue= titanic_df['Pclass'])"
      ],
      "metadata": {
        "id": "JpjKkIFsbkzz"
      },
      "execution_count": null,
      "outputs": []
    },
    {
      "cell_type": "code",
      "source": [
        "sns.heatmap(titanic_df.isnull())"
      ],
      "metadata": {
        "id": "uHK1X1UER2QW"
      },
      "execution_count": null,
      "outputs": []
    },
    {
      "cell_type": "code",
      "source": [
        "ports = pd.get_dummies(titanic_df.Embarked, prefix='Embarked', dtype=int)\n",
        "ports.head()"
      ],
      "metadata": {
        "id": "zXW9OUh7SAnb"
      },
      "execution_count": null,
      "outputs": []
    },
    {
      "cell_type": "code",
      "source": [
        "titanic_df = titanic_df.join(ports)"
      ],
      "metadata": {
        "id": "WNX_Gve8S19W"
      },
      "execution_count": null,
      "outputs": []
    },
    {
      "cell_type": "code",
      "source": [
        "titanic_df.drop(['Embarked'],axis=1, inplace=True)"
      ],
      "metadata": {
        "id": "M4wATQ4FTAEd"
      },
      "execution_count": null,
      "outputs": []
    },
    {
      "cell_type": "code",
      "source": [
        "titanic_df.head()"
      ],
      "metadata": {
        "id": "jtwhQ-5bTW9S"
      },
      "execution_count": null,
      "outputs": []
    },
    {
      "cell_type": "code",
      "source": [
        "titanic_df.Sex=titanic_df.Sex.map({'male':0,'female':1})"
      ],
      "metadata": {
        "id": "MgWYVWO8Tdga"
      },
      "execution_count": null,
      "outputs": []
    },
    {
      "cell_type": "code",
      "source": [
        "titanic_df['Sex']"
      ],
      "metadata": {
        "id": "ulq2CWa3TxYx"
      },
      "execution_count": null,
      "outputs": []
    },
    {
      "cell_type": "code",
      "source": [
        "sns.countplot(x = titanic_df['Sex'], hue= titanic_df['Survived'])"
      ],
      "metadata": {
        "id": "n0L3imZ2cEeE"
      },
      "execution_count": null,
      "outputs": []
    },
    {
      "cell_type": "code",
      "source": [
        "#splitting the data\n",
        "Y= titanic_df.Survived.copy()\n",
        "X= titanic_df.drop(['Survived'], axis = 1)"
      ],
      "metadata": {
        "id": "LHL7GzlTT5sA"
      },
      "execution_count": null,
      "outputs": []
    },
    {
      "cell_type": "code",
      "source": [
        "# we are dropping the attributed which does not have a stronger coorelation to affect the outcome\n",
        "X.drop(['Cabin','Ticket','Name','PassengerId'], axis = 1, inplace=True)"
      ],
      "metadata": {
        "id": "iq4ZMXwnUbjL"
      },
      "execution_count": null,
      "outputs": []
    },
    {
      "cell_type": "code",
      "source": [
        "X.isnull().sum()"
      ],
      "metadata": {
        "id": "wbqXP9KbU_Vx"
      },
      "execution_count": null,
      "outputs": []
    },
    {
      "cell_type": "code",
      "source": [
        "# As per prior result we have null values in the Age component, we are replacing the null values with mean\n",
        "X.Age.fillna(X.Age.mean(),inplace=True)"
      ],
      "metadata": {
        "id": "P62mjPmVVEzq"
      },
      "execution_count": null,
      "outputs": []
    },
    {
      "cell_type": "code",
      "source": [
        "# checkind any null values present\n",
        "X.isnull().values.any()"
      ],
      "metadata": {
        "id": "jYswkzM1WDzK"
      },
      "execution_count": null,
      "outputs": []
    },
    {
      "cell_type": "code",
      "source": [
        "#import libraries for model buliding\n",
        "from sklearn.model_selection import train_test_split\n",
        "\n",
        "#Spliting the data to train our model and test its accurancy\n",
        "X_train, X_test, Y_train, Y_test = train_test_split(X, Y, test_size = 0.2, random_state = 7)"
      ],
      "metadata": {
        "id": "nCQBsKdLWpsq"
      },
      "execution_count": null,
      "outputs": []
    },
    {
      "cell_type": "code",
      "source": [
        "#import regression libraries for model buliding\n",
        "from sklearn.linear_model import LogisticRegression\n",
        "\n",
        "#Initialize it to a name\n",
        "model = LogisticRegression()"
      ],
      "metadata": {
        "id": "dT3qpEY7X_IK"
      },
      "execution_count": null,
      "outputs": []
    },
    {
      "cell_type": "code",
      "source": [
        "#Fitting our data to the model\n",
        "model.fit(X_train, Y_train)"
      ],
      "metadata": {
        "id": "JINuULmtYewa"
      },
      "execution_count": null,
      "outputs": []
    },
    {
      "cell_type": "code",
      "source": [
        "model.score(X_train, Y_train)"
      ],
      "metadata": {
        "id": "_7VgjB4VYx-i"
      },
      "execution_count": null,
      "outputs": []
    },
    {
      "cell_type": "code",
      "source": [
        "#predict on the model\n",
        "Y_pred_test = model.predict(X_test)\n",
        "Y_pred_test"
      ],
      "metadata": {
        "id": "nw8vwxUzY7pE"
      },
      "execution_count": null,
      "outputs": []
    },
    {
      "cell_type": "code",
      "source": [
        "Y_test"
      ],
      "metadata": {
        "id": "Nf54qk4oZYbH"
      },
      "execution_count": null,
      "outputs": []
    },
    {
      "cell_type": "code",
      "source": [
        "#import Metrics to check accuracy\n",
        "from sklearn.metrics import accuracy_score\n",
        "print('Model accuracy score: {0:0.4f}'. format(accuracy_score(Y_test, Y_pred_test)))"
      ],
      "metadata": {
        "id": "1pix6F3pZk5C"
      },
      "execution_count": null,
      "outputs": []
    }
  ]
}